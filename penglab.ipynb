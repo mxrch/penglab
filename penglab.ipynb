{
  "cells": [
    {
      "cell_type": "code",
      "execution_count": null,
      "metadata": {},
      "outputs": [],
      "source": []
    },
    {
      "cell_type": "code",
      "execution_count": 13,
      "metadata": {
        "colab": {},
        "colab_type": "code",
        "id": "vp4LSKizX-8E"
      },
      "outputs": [],
      "source": [
        "#Penglab (Abuse of Google Colab for fun and profit)\n",
        "#by mxrch\n",
        "\n",
        "#Choose what you want to install\n",
        "hashcat = False\n",
        "john = False\n",
        "hydra = False\n",
        "\n",
        "#Which shell ? (only one, or none)\n",
        "#⚠️ Don't select a shell to run bash commands in the Google Colab way (you'll see). Stable.\n",
        "ssh = False #It uses ngrok. Stable and interactive, but take a little time to setup\n",
        "python_shell = False #Useful for little hashes, but not for long hours, since you'll see the output only when it finish. Not interactive, but stable.\n",
        "bash_shell = False #Useful for big hashes. but you'll don't see your input (surely a Google Colab protection). Stable.\n",
        "\n",
        "#Wordlists (see weakpass.com to download them)\n",
        "wordlists_dir = \"wordlists\"\n",
        "\n",
        "rockyou = False #For CTFs, especially Hack The Box (133.44 Mb)\n",
        "hashesorg2019 = False #Very heavy (12.79 Gb) but has a good rate, if you're determinated\n",
        "\n",
        "#---------------------------\n",
        "\n",
        "if (python_shell and bash_shell) or (bash_shell and ssh) or (ssh and python_shell) :\n",
        "    print(\"Please do a choice\")\n",
        "    exit()"
      ]
    },
    {
      "cell_type": "code",
      "execution_count": 19,
      "metadata": {
        "colab": {},
        "colab_type": "code",
        "id": "bG3hglwpZCB_"
      },
      "outputs": [
        {
          "name": "stderr",
          "output_type": "stream",
          "text": [
            "The syntax of the command is incorrect.\n"
          ]
        }
      ],
      "source": [
        "#Wordlists\n",
        "import os\n",
        "\n",
        "os.system(\"wordlists_dir={}\".format(wordlists_dir))\n",
        "!mkdir ./$wordlists_dir\n",
        "if rockyou:\n",
        "    !printf \"[+] Downloading the Rockyou wordlist...\\n\"\n",
        "    !cd $wordlists_dir && wget https://download.weakpass.com/wordlists/90/rockyou.txt.gz\n",
        "    !printf \"[+] Wordlist downloaded !\\n[+] Extraction...\\n\"\n",
        "    !cd $wordlists_dir && gunzip rockyou.txt.gz\n",
        "    !printf \"[+] Finished !\\n[+] Location : $(pwd)/$wordlists_dir/$(ls wordlists | grep rockyou)\"\n",
        "\n",
        "if hashesorg2019:\n",
        "    !printf \"[+] Downloading the HashesOrg2019 wordlist...\\n\"\n",
        "    !cd $wordlists_dir && wget https://download.weakpass.com/wordlists/1851/hashesorg2019.gz\n",
        "    !printf \"[+] Wordlist downloaded !\\n[+] Extraction...\\n\"\n",
        "    !cd $wordlists_dir && gunzip hashesorg2019.gz\n",
        "    !printf \"[+] Finished !\\n[+] Location : $(pwd)/$wordlists_dir/$(ls wordlists | grep hashesorg2019)\""
      ]
    },
    {
      "cell_type": "code",
      "execution_count": null,
      "metadata": {},
      "outputs": [],
      "source": []
    },
    {
      "cell_type": "code",
      "execution_count": null,
      "metadata": {},
      "outputs": [],
      "source": []
    },
    {
      "cell_type": "code",
      "execution_count": 15,
      "metadata": {
        "colab": {},
        "colab_type": "code",
        "id": "nkcgYemCZA2n"
      },
      "outputs": [],
      "source": [
        "#Install of hashcat\n",
        "if hashcat:\n",
        "    print(\"Installation of hashcat...\")\n",
        "    !apt install cmake build-essential -y\n",
        "    !apt install checkinstall git -y\n",
        "    !git clone https://github.com/hashcat/hashcat.git && cd hashcat && make -j 8 && make install"
      ]
    },
    {
      "cell_type": "code",
      "execution_count": 16,
      "metadata": {
        "colab": {},
        "colab_type": "code",
        "id": "lJ4ftp1ua3e9"
      },
      "outputs": [],
      "source": [
        "#Install of john\n",
        "if john:\n",
        "    print(\"Installation of john...\")\n",
        "    !apt-get install john -y"
      ]
    },
    {
      "cell_type": "code",
      "execution_count": 17,
      "metadata": {
        "colab": {},
        "colab_type": "code",
        "id": "nYd0hAxYdSJs"
      },
      "outputs": [],
      "source": [
        "#Install of hydra\n",
        "if hydra:\n",
        "    print(\"Installation of hydra...\")\n",
        "    !apt install cmake build-essential -y\n",
        "    !apt install checkinstall git -y\n",
        "    !git clone https://github.com/vanhauser-thc/thc-hydra.git && cd thc-hydra && ./configure && make && make install"
      ]
    },
    {
      "cell_type": "code",
      "execution_count": 18,
      "metadata": {
        "colab": {},
        "colab_type": "code",
        "id": "erA610RJM1GK"
      },
      "outputs": [
        {
          "ename": "ModuleNotFoundError",
          "evalue": "No module named 'termcolor'",
          "output_type": "error",
          "traceback": [
            "\u001b[1;31m---------------------------------------------------------------------------\u001b[0m",
            "\u001b[1;31mModuleNotFoundError\u001b[0m                       Traceback (most recent call last)",
            "Cell \u001b[1;32mIn[18], line 2\u001b[0m\n\u001b[0;32m      1\u001b[0m \u001b[39m#Setting up shells\u001b[39;00m\n\u001b[1;32m----> 2\u001b[0m \u001b[39mfrom\u001b[39;00m \u001b[39mtermcolor\u001b[39;00m \u001b[39mimport\u001b[39;00m colored\n\u001b[0;32m      3\u001b[0m \u001b[39mimport\u001b[39;00m \u001b[39mos\u001b[39;00m\n\u001b[0;32m      5\u001b[0m \u001b[39mif\u001b[39;00m ssh:\n",
            "\u001b[1;31mModuleNotFoundError\u001b[0m: No module named 'termcolor'"
          ]
        }
      ],
      "source": [
        "#Setting up shells\n",
        "from termcolor import colored\n",
        "import os\n",
        "\n",
        "if ssh:\n",
        "    print(\"Setting up SSH...\")\n",
        "    !pip install git+https://github.com/demotomohiro/remocolab.git\n",
        "    import remocolab\n",
        "    remocolab.setupSSHD()\n",
        "\n",
        "elif python_shell:\n",
        "    os.system(\"touch /tmp/cmd && touch /tmp/status\")\n",
        "\n",
        "    template_cmd = \"echo -n $(whoami)[$(hostname)[$(pwd) &> /tmp/status\"\n",
        "    os.system(\"bash -c '{}'\".format(template_cmd))\n",
        "    output = {\"cmd\": \"\", \"status\": \"\"}\n",
        "    with open('/tmp/cmd', 'r') as f:\n",
        "        output[\"cmd\"] = f.read()\n",
        "    with open('/tmp/status', 'r') as f:\n",
        "        output[\"status\"] = f.read()\n",
        "    prefixes = output[\"status\"].split(\"[\")\n",
        "    path = prefixes[2].replace('\\n', '')\n",
        "    prefix = colored(prefixes[0] + \"@\" + prefixes[1], \"red\") + \":\" + colored(path, \"cyan\") + \"$ \"\n",
        "    print(\"\")\n",
        "\n",
        "    while 1:\n",
        "        print(prefix, end='')\n",
        "        cmd = input()\n",
        "        template_cmd = \"cd {} && \".format(path) + \"\" + cmd + \" &> /tmp/cmd ; echo $(whoami)[$(hostname)[$(pwd) &> /tmp/status\"\n",
        "        os.system(\"bash -c '{}'\".format(template_cmd))\n",
        "        output = {\"cmd\": \"\", \"status\": \"\"}\n",
        "        with open('/tmp/cmd', 'r') as f:\n",
        "            output[\"cmd\"] = f.read()\n",
        "        with open('/tmp/status', 'r') as f:\n",
        "            output[\"status\"] = f.read()\n",
        "        prefixes = output[\"status\"].split(\"[\")\n",
        "        path = prefixes[2].replace('\\n', '')\n",
        "        prefix = colored(prefixes[0] + \"@\" + prefixes[1], \"red\") + \":\" + colored(path, \"cyan\") + \"$ \"\n",
        "        print(output[\"cmd\"])\n",
        "\n",
        "elif bash_shell:\n",
        "    !/bin/bash\n",
        "\n",
        "else:\n",
        "    print('\\n🚨🚨🚨\\n🎉 Your environment is ready !\\nWant to run it from the code blocks ?')\n",
        "    print('Just use the code block below and start your commands by a \"!\" (make sure to uncomment them).')\n",
        "    print('▶️ When you\\'re ready, hit the run button at the left of the code block !\\n')\n",
        "    print('|\\n|\\n|\\nV')"
      ]
    },
    {
      "cell_type": "code",
      "execution_count": null,
      "metadata": {
        "colab": {},
        "colab_type": "code",
        "id": "7ucWO9luB4RG"
      },
      "outputs": [],
      "source": [
        "# Put your code here :\n",
        "# !hashcat -h\n",
        "# !john --help"
      ]
    }
  ],
  "metadata": {
    "accelerator": "GPU",
    "colab": {
      "collapsed_sections": [],
      "name": "Penglab.ipynb",
      "provenance": []
    },
    "kernelspec": {
      "display_name": "Python 3",
      "name": "python3"
    },
    "language_info": {
      "codemirror_mode": {
        "name": "ipython",
        "version": 3
      },
      "file_extension": ".py",
      "mimetype": "text/x-python",
      "name": "python",
      "nbconvert_exporter": "python",
      "pygments_lexer": "ipython3",
      "version": "3.11.4"
    }
  },
  "nbformat": 4,
  "nbformat_minor": 0
}
