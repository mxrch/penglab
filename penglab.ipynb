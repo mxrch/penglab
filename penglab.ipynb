{
  "nbformat": 4,
  "nbformat_minor": 0,
  "metadata": {
    "colab": {
      "name": "Penglab.ipynb",
      "provenance": [],
      "collapsed_sections": []
    },
    "kernelspec": {
      "name": "python3",
      "display_name": "Python 3"
    },
    "accelerator": "GPU"
  },
  "cells": [
    {
      "cell_type": "code",
      "metadata": {
        "id": "vp4LSKizX-8E",
        "colab_type": "code",
        "colab": {}
      },
      "source": [
        "#Penglab (Abuse of Google Colab for fun and profit)\n",
        "#by mxrch\n",
        "\n",
        "#Choose what you want to install\n",
        "hashcat = True\n",
        "john = False\n",
        "hydra = True\n",
        "\n",
        "#Which shell ? (only one, or none)\n",
        "#⚠️ Don't select a shell to run bash commands in the Google Colab way (you'll see). Stable.\n",
        "ssh = False #It uses ngrok. Stable and interactive, but take a little time to setup\n",
        "python_shell = False #Useful for little hashes, but not for long hours, since you'll see the output only when it finish. Not interactive, but stable.\n",
        "bash_shell = True #Useful for big hashes. but you'll don't see your input (surely a Google Colab protection). Stable.\n",
        "\n",
        "#Wordlists (see weakpass.com to download them)\n",
        "wordlists_dir = \"wordlists\"\n",
        "\n",
        "rockyou = False #For CTFs, especially Hack The Box (133.44 Mb)\n",
        "hashesorg2019 = False #Very heavy (12.79 Gb) but has a good rate, if you're determinated\n",
        "\n",
        "#---------------------------\n",
        "\n",
        "if (python_shell and bash_shell) or (bash_shell and ssh) or (ssh and python_shell) :\n",
        "    print(\"Please do a choice\")\n",
        "    exit()"
      ],
      "execution_count": 0,
      "outputs": []
    },
    {
      "cell_type": "code",
      "metadata": {
        "id": "bG3hglwpZCB_",
        "colab_type": "code",
        "colab": {}
      },
      "source": [
        "#Wordlists\n",
        "import os\n",
        "\n",
        "os.system(\"wordlists_dir={}\".format(wordlists_dir))\n",
        "!mkdir ./$wordlists_dir\n",
        "if rockyou:\n",
        "    !printf \"[+] Downloading the Rockyou wordlist...\\n\"\n",
        "    !cd $wordlists_dir && wget https://download.weakpass.com/wordlists/90/rockyou.txt.gz\n",
        "    !printf \"[+] Wordlist downloaded !\\n[+] Extraction...\\n\"\n",
        "    !cd $wordlists_dir && gunzip rockyou.txt.gz\n",
        "    !printf \"[+] Finished !\\n[+] Location : $(pwd)/$wordlists_dir/$(ls wordlists | grep rockyou)\"\n",
        "\n",
        "if hashesorg2019:\n",
        "    !printf \"[+] Downloading the HashesOrg2019 wordlist...\\n\"\n",
        "    !cd $wordlists_dir && wget https://download.weakpass.com/wordlists/1851/hashesorg2019.gz\n",
        "    !printf \"[+] Wordlist downloaded !\\n[+] Extraction...\\n\"\n",
        "    !cd $wordlists_dir && gunzip hashesorg2019.gz\n",
        "    !printf \"[+] Finished !\\n[+] Location : $(pwd)/$wordlists_dir/$(ls wordlists | grep hashesorg2019)\""
      ],
      "execution_count": 0,
      "outputs": []
    },
    {
      "cell_type": "code",
      "metadata": {
        "id": "nkcgYemCZA2n",
        "colab_type": "code",
        "colab": {}
      },
      "source": [
        "#Install of hashcat\n",
        "if hashcat:\n",
        "    print(\"Installation of hashcat...\")\n",
        "    !apt install cmake build-essential -y\n",
        "    !apt install checkinstall git -y\n",
        "    !git clone https://github.com/hashcat/hashcat.git && cd hashcat && make -j 8 && make install"
      ],
      "execution_count": 0,
      "outputs": []
    },
    {
      "cell_type": "code",
      "metadata": {
        "id": "lJ4ftp1ua3e9",
        "colab_type": "code",
        "colab": {}
      },
      "source": [
        "#Install of john\n",
        "if john:\n",
        "    print(\"Installation of john...\")\n",
        "    !apt-get install john -y"
      ],
      "execution_count": 0,
      "outputs": []
    },
    {
      "cell_type": "code",
      "metadata": {
        "id": "nYd0hAxYdSJs",
        "colab_type": "code",
        "colab": {}
      },
      "source": [
        "#Install of hydra\n",
        "if hydra:\n",
        "    print(\"Installation of hydra...\")\n",
        "    !apt install cmake build-essential -y\n",
        "    !apt install checkinstall git -y\n",
        "    !git clone https://github.com/vanhauser-thc/thc-hydra.git && cd thc-hydra && ./configure && make && make install"
      ],
      "execution_count": 0,
      "outputs": []
    },
    {
      "cell_type": "code",
      "metadata": {
        "id": "erA610RJM1GK",
        "colab_type": "code",
        "colab": {}
      },
      "source": [
        "#Setting up shells\n",
        "from termcolor import colored\n",
        "import os\n",
        "\n",
        "if ssh:\n",
        "    print(\"Setting up SSH...\")\n",
        "    !pip install git+https://github.com/demotomohiro/remocolab.git\n",
        "    import remocolab\n",
        "    remocolab.setupSSHD()\n",
        "\n",
        "elif python_shell:\n",
        "    os.system(\"touch /tmp/cmd && touch /tmp/status\")\n",
        "\n",
        "    template_cmd = \"echo -n $(whoami)[$(hostname)[$(pwd) &> /tmp/status\"\n",
        "    os.system(\"bash -c '{}'\".format(template_cmd))\n",
        "    output = {\"cmd\": \"\", \"status\": \"\"}\n",
        "    with open('/tmp/cmd', 'r') as f:\n",
        "        output[\"cmd\"] = f.read()\n",
        "    with open('/tmp/status', 'r') as f:\n",
        "        output[\"status\"] = f.read()\n",
        "    prefixes = output[\"status\"].split(\"[\")\n",
        "    path = prefixes[2].replace('\\n', '')\n",
        "    prefix = colored(prefixes[0] + \"@\" + prefixes[1], \"red\") + \":\" + colored(path, \"cyan\") + \"$ \"\n",
        "    print(\"\")\n",
        "\n",
        "    while 1:\n",
        "        print(prefix, end='')\n",
        "        cmd = input()\n",
        "        template_cmd = \"cd {} && \".format(path) + \"\" + cmd + \" &> /tmp/cmd ; echo $(whoami)[$(hostname)[$(pwd) &> /tmp/status\"\n",
        "        os.system(\"bash -c '{}'\".format(template_cmd))\n",
        "        output = {\"cmd\": \"\", \"status\": \"\"}\n",
        "        with open('/tmp/cmd', 'r') as f:\n",
        "            output[\"cmd\"] = f.read()\n",
        "        with open('/tmp/status', 'r') as f:\n",
        "            output[\"status\"] = f.read()\n",
        "        prefixes = output[\"status\"].split(\"[\")\n",
        "        path = prefixes[2].replace('\\n', '')\n",
        "        prefix = colored(prefixes[0] + \"@\" + prefixes[1], \"red\") + \":\" + colored(path, \"cyan\") + \"$ \"\n",
        "        print(output[\"cmd\"])\n",
        "\n",
        "elif bash_shell:\n",
        "    !/bin/bash\n",
        "\n",
        "else:\n",
        "    print('\\n🚨🚨🚨\\n🎉 Your environment is ready !\\nWant to run it from the code blocks ?')\n",
        "    print('Just use the code block below and start your commands by a \"!\" (make sure to uncomment them).')\n",
        "    print('▶️ When you\\'re ready, hit the run button at the left of the code block !\\n')\n",
        "    print('|\\n|\\n|\\nV')"
      ],
      "execution_count": 0,
      "outputs": []
    },
    {
      "cell_type": "code",
      "metadata": {
        "id": "7ucWO9luB4RG",
        "colab_type": "code",
        "colab": {}
      },
      "source": [
        "# Put your code here :\n",
        "# !hashcat -h\n",
        "# !john --help"
      ],
      "execution_count": 0,
      "outputs": []
    }
  ]
}
